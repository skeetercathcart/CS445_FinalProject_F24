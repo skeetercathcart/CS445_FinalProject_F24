{
 "cells": [
  {
   "cell_type": "code",
   "execution_count": 27,
   "id": "15247a7e-3694-4b2a-993a-c1f8dbf2bca8",
   "metadata": {},
   "outputs": [],
   "source": [
    "import csv\n",
    "\n",
    "# Sieve of Eratosthenes, used to generate prime numbers sequentially. Used to generate a list of prime numbers\n",
    "def sieve_of_eratosthenes(limit):\n",
    "    \"\"\"Return a list of all prime numbers up to the specified limit using the Sieve of Eratosthenes.\"\"\"\n",
    "    primes = []\n",
    "    is_prime = [True] * (limit + 1)\n",
    "    is_prime[0] = is_prime[1] = False \n",
    "    \n",
    "    for number in range(2, limit + 1):\n",
    "        if is_prime[number]:\n",
    "            primes.append(number)\n",
    "            for multiple in range(number * number, limit + 1, number):\n",
    "                is_prime[multiple] = False\n",
    "    \n",
    "    return primes\n",
    "\n",
    "\n",
    "# Used to write primes to .csv in hopes of saving time when brute forcing decryption\n",
    "def write_primes_to_csv(primes, filename):\n",
    "    with open(filename, 'w', newline='') as file:\n",
    "        writer = csv.writer(file)\n",
    "        writer.writerow(['Prime Number'])  # Write the header\n",
    "        for prime in primes:\n",
    "            writer.writerow([prime])  # Write each prime number in a new row\n",
    "\n"
   ]
  },
  {
   "cell_type": "code",
   "execution_count": 29,
   "id": "b1e62687-0778-4234-86f1-abdb18e83ba0",
   "metadata": {},
   "outputs": [],
   "source": [
    "# Function for generating a valid e and d value for the encryption\n",
    "\n",
    "def check_e_d(p, q):\n",
    "    # Temp vars because d may be used throughout this notebook\n",
    "    d = 0\n",
    "    coprime = False\n",
    "\n",
    "    # Go through the list of small primes to check if there is a valid value of d for the given p and q. If not, go to the next prime value\n",
    "    # for e and see if there is a valid d\n",
    "    for element in first_primes_list[3:]:\n",
    "        # We use a try-except here because the pow function will throw a ValueError, so we catch with an 'except' rather than using 'if'\n",
    "        try: \n",
    "            totient = math.lcm(p - 1, q - 1)\n",
    "            d = pow(element, -1, totient)\n",
    "            # If d is an integer, we then check if it is coprime to our potential e value. If e is valid, we can return e and d\n",
    "            if(d != 0 and totient % element != 0):\n",
    "                return [element, d, totient, True]      \n",
    "        # If we get an error back, rather than value for d, loop again with the next prime value from the list\n",
    "        except Exception as ex:\n",
    "            continue\n",
    "        # If the whole list of first primes is exhausted, return 0s\n",
    "        else:\n",
    "            return [0, 0, 0, False]\n",
    "\n"
   ]
  },
  {
   "cell_type": "code",
   "execution_count": 5,
   "id": "7f203eb2",
   "metadata": {
    "scrolled": true
   },
   "outputs": [],
   "source": [
    "# Github Link - https://github.com/skeetercathcart/CS445_FinalProject_F24\n",
    "\n",
    "import random\n",
    "\n",
    "# Pre generated primes\n",
    "first_primes_list = [3, 5, 7, 11, 13, 17, 19, 23, 29,\n",
    "                     31, 37, 41, 43, 47, 53, 59, 61, 67,\n",
    "                     71, 73, 79, 83, 89, 97, 101, 103,\n",
    "                     107, 109, 113, 127, 131, 137, 139,\n",
    "                     149, 151, 157, 163, 167, 173, 179,\n",
    "                     181, 191, 193, 197, 199, 211, 223,\n",
    "                     227, 229, 233, 239, 241, 251, 257,\n",
    "                     263, 269, 271, 277, 281, 283, 293,\n",
    "                     307, 311, 313, 317, 331, 337, 347, 349]\n",
    "\n",
    "\n",
    "# Functions for generating random primes\n",
    "\n",
    "# Random number generator\n",
    "def nBitRandom(n):\n",
    "    return random.randrange(2**(n-1)+1, 2**n - 1)\n",
    " \n",
    " \n",
    "def getLowLevelPrime(n):\n",
    "    #Generate a prime candidate divisible by first primes\n",
    "    while True:\n",
    "        # Obtain a random number\n",
    "        pc = nBitRandom(n)\n",
    " \n",
    "        # Test divisibility by pre-generated primes\n",
    "        for divisor in first_primes_list:\n",
    "            if pc % divisor == 0 and divisor**2 <= pc:\n",
    "                break\n",
    "        else:\n",
    "            return pc\n",
    " \n",
    "def isMillerRabinPassed(mrc):\n",
    "    # Run 20 iterations of Rabin Miller Primality test\n",
    "    maxDivisionsByTwo = 0\n",
    "    ec = mrc-1\n",
    "    while ec % 2 == 0:\n",
    "        ec >>= 1\n",
    "        maxDivisionsByTwo += 1\n",
    "    assert(2**maxDivisionsByTwo * ec == mrc-1)\n",
    " \n",
    "    def trialComposite(round_tester):\n",
    "        if pow(round_tester, ec, mrc) == 1:\n",
    "            return False\n",
    "        for i in range(maxDivisionsByTwo):\n",
    "            if pow(round_tester, 2**i * ec, mrc) == mrc-1:\n",
    "                return False\n",
    "        return True\n",
    " \n",
    "    # Set number of trials here\n",
    "    numberOfRabinTrials = 20\n",
    "    for i in range(numberOfRabinTrials):\n",
    "        round_tester = random.randrange(2, mrc)\n",
    "        if trialComposite(round_tester):\n",
    "            return False\n",
    "    return True\n",
    "\n",
    "def generate_primes(bit_size):\n",
    "    RSA_Primes = []\n",
    "    while True:\n",
    "        n = bit_size\n",
    "        P = getLowLevelPrime(n)\n",
    "        if not isMillerRabinPassed(P):\n",
    "            continue\n",
    "        else:\n",
    "            break\n",
    "    while True:\n",
    "        n = bit_size\n",
    "        Q = getLowLevelPrime(n)\n",
    "        if not isMillerRabinPassed(Q):\n",
    "            continue\n",
    "        else:\n",
    "            break\n",
    "    RSA_Primes.append(P)\n",
    "    RSA_Primes.append(Q)\n",
    "    return(RSA_Primes)\n"
   ]
  },
  {
   "cell_type": "code",
   "execution_count": 61,
   "id": "41c7d0a7-cfa6-419a-b060-82f52f53305f",
   "metadata": {},
   "outputs": [
    {
     "name": "stdout",
     "output_type": "stream",
     "text": [
      "Q: 223\n",
      "P: 157\n",
      "n: 35011\n",
      "totient: 5772\n",
      "k: 3\n",
      "d: 2099\n",
      "e: 11\n"
     ]
    }
   ],
   "source": [
    "import math\n",
    "from sympy import mod_inverse\n",
    "\n",
    "# Assign k value\n",
    "k = 3\n",
    "\n",
    "# Generate Initial Primes Numbers\n",
    "coprime = False\n",
    "P = 0\n",
    "P = 1\n",
    "while(coprime == False and P != Q):\n",
    "\n",
    "    RSA_Primes = generate_primes(8)\n",
    "    [P, Q] = RSA_Primes\n",
    "\n",
    "    # Calculate n\n",
    "    n = P * Q\n",
    "\n",
    "    # Calculate d (modular multiplicative inverse) and e (small prime) that are coprime\n",
    "    [e, d, totient, coprime] = check_e_d(P, Q)\n",
    "    \n",
    "    \n",
    "\n",
    "print('Q: ' + str(Q))\n",
    "print('P: ' + str(P))\n",
    "print('n: ' + str(n))\n",
    "print('totient: ' + str(totient))\n",
    "print('k: ' + str(k))\n",
    "print('d: ' + str(d))\n",
    "print('e: ' + str(e))"
   ]
  },
  {
   "cell_type": "code",
   "execution_count": 83,
   "id": "d5d81a20",
   "metadata": {},
   "outputs": [
    {
     "name": "stdout",
     "output_type": "stream",
     "text": [
      "o\n",
      "Public Key: 11237\n",
      "Encoded int: 111\n"
     ]
    }
   ],
   "source": [
    "# Encrypt a message\n",
    "\n",
    "message = 'o'\n",
    "\n",
    "print(message)\n",
    "\n",
    "# Convert message to their ascii values\n",
    "encoded_message = message.encode('utf-8')\n",
    "\n",
    "# Convert bytes to integer (basically a mathematical base conversion)\n",
    "encoded_int = int.from_bytes(encoded_message, byteorder='big')\n",
    "\n",
    "# Encrypt the encoded message using the Public Key\n",
    "public_key = pow(encoded_int, e) % n\n",
    "\n",
    "print('Public Key: ' + str(public_key))\n",
    "print('Encoded int: ' + str(encoded_int))\n"
   ]
  },
  {
   "cell_type": "code",
   "execution_count": 85,
   "id": "d5658912-9840-4cac-bee5-0d142a99ea55",
   "metadata": {},
   "outputs": [
    {
     "name": "stdout",
     "output_type": "stream",
     "text": [
      "Decoded plaintext: o\n"
     ]
    }
   ],
   "source": [
    "# Decrypt the message\n",
    "private_key = pow(public_key, d) % n\n",
    "\n",
    "# Convert private key integer into utf-8 byte array\n",
    "decode_bytes = bytes([private_key])\n",
    "\n",
    "# Convert byte array back into string\n",
    "decode_string = decode_bytes.decode('utf-8')\n",
    "\n",
    "print('Decoded plaintext: ' + str(decode_string))"
   ]
  },
  {
   "cell_type": "code",
   "execution_count": 93,
   "id": "9ffbe4f1",
   "metadata": {},
   "outputs": [
    {
     "name": "stdout",
     "output_type": "stream",
     "text": [
      "No matching keys found\n"
     ]
    }
   ],
   "source": [
    "from sympy import isprime, mod_inverse\n",
    "from itertools import permutations\n",
    "\n",
    "# Brute force for small primes\n",
    "def brute_force_rsa(encrypted_int):\n",
    "    first_primes_list = [2, 3, 5, 7, 11, 13, 17, 19]  # Small primes for demonstration\n",
    "    \n",
    "    for p in first_primes_list[5:]:\n",
    "        for q in first_primes_list[6:]:\n",
    "            if p != q and isprime(p) and isprime(q):\n",
    "                \n",
    "                try:\n",
    "                    brute_n = p * q\n",
    "                    [brute_e, brute_d] = check_e_d(p, q)\n",
    "                    plaintext = pow(encrypted_int, brute_d, brute_n)\n",
    "                    print(f\"Found keys with p={p} and q={q}:\")\n",
    "                    print(f\"n = {brute_n}\")\n",
    "                    print(f\"Public exponent e = {brute_e}\")\n",
    "                    print(f\"Private exponent d = {brute_d}\")\n",
    "                    print(f\"Plaintext = {plaintext}\")\n",
    "                    return\n",
    "                except ValueError:\n",
    "                    continue\n",
    "\n",
    "    print(\"No matching keys found\")\n",
    "\n",
    "# Run the brute force example\n",
    "brute_force_rsa(encoded_int)"
   ]
  },
  {
   "cell_type": "code",
   "execution_count": 95,
   "id": "49e355e1",
   "metadata": {},
   "outputs": [
    {
     "name": "stdout",
     "output_type": "stream",
     "text": [
      "No matching keys found\n"
     ]
    }
   ],
   "source": [
    "# Brute force loop\n",
    "def brute_force_rsa(encrypted_int):\n",
    "    \n",
    "    for brute_p in first_primes_list:\n",
    "        for brute_q in first_primes_list:\n",
    "            if brute_p != brute_q and isprime(brute_p) and isprime(brute_q):\n",
    "                brute_n = brute_p * brute_q\n",
    "                try:\n",
    "                    [brute_e, brute_d] = check_e_d(brute_p, brute_q)\n",
    "                    if (pow(encrypted_int, brute_d) % n):\n",
    "                        print(f\"Found keys with p={brute_p} and q={brute_q}:\")\n",
    "                        print(f\"n = {brute_n}\")\n",
    "                        print(f\"Public exponent e = {brute_e}\")\n",
    "                        print(f\"Private exponent d = {brute_d}\")\n",
    "                        print(f\"Plaintext = kek\")\n",
    "                        return\n",
    "                except ValueError:\n",
    "                    continue\n",
    "\n",
    "    print(\"No matching keys found\")\n",
    "\n",
    "# Run the brute force example\n",
    "brute_force_rsa(encoded_int)"
   ]
  },
  {
   "cell_type": "code",
   "execution_count": null,
   "id": "fcc704dd-c983-43d8-8a23-32aec284a0fd",
   "metadata": {},
   "outputs": [],
   "source": []
  }
 ],
 "metadata": {
  "kernelspec": {
   "display_name": "Python 3 (ipykernel)",
   "language": "python",
   "name": "python3"
  },
  "language_info": {
   "codemirror_mode": {
    "name": "ipython",
    "version": 3
   },
   "file_extension": ".py",
   "mimetype": "text/x-python",
   "name": "python",
   "nbconvert_exporter": "python",
   "pygments_lexer": "ipython3",
   "version": "3.12.4"
  }
 },
 "nbformat": 4,
 "nbformat_minor": 5
}
