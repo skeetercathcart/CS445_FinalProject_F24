{
 "cells": [
  {
   "cell_type": "code",
   "execution_count": 17,
   "id": "7f203eb2",
   "metadata": {
    "scrolled": true
   },
   "outputs": [
    {
     "name": "stdout",
     "output_type": "stream",
     "text": [
      "64 bit prime is: \n",
      " 11697298390749464093\n",
      "64 bit prime is: \n",
      " 15869236734570895547\n"
     ]
    }
   ],
   "source": [
    "# Large Prime Generation for RSA\n",
    "import random\n",
    " \n",
    "# Pre generated primes\n",
    "first_primes_list = [2, 3, 5, 7, 11, 13, 17, 19, 23, 29,\n",
    "                     31, 37, 41, 43, 47, 53, 59, 61, 67,\n",
    "                     71, 73, 79, 83, 89, 97, 101, 103,\n",
    "                     107, 109, 113, 127, 131, 137, 139,\n",
    "                     149, 151, 157, 163, 167, 173, 179,\n",
    "                     181, 191, 193, 197, 199, 211, 223,\n",
    "                     227, 229, 233, 239, 241, 251, 257,\n",
    "                     263, 269, 271, 277, 281, 283, 293,\n",
    "                     307, 311, 313, 317, 331, 337, 347, 349]\n",
    " \n",
    " \n",
    "def nBitRandom(n):\n",
    "    return random.randrange(2**(n-1)+1, 2**n - 1)\n",
    " \n",
    " \n",
    "def getLowLevelPrime(n):\n",
    "    '''Generate a prime candidate divisible \n",
    "    by first primes'''\n",
    "    while True:\n",
    "        # Obtain a random number\n",
    "        pc = nBitRandom(n)\n",
    " \n",
    "        # Test divisibility by pre-generated\n",
    "        # primes\n",
    "        for divisor in first_primes_list:\n",
    "            if pc % divisor == 0 and divisor**2 <= pc:\n",
    "                break\n",
    "        else:\n",
    "            return pc\n",
    " \n",
    " \n",
    "def isMillerRabinPassed(mrc):\n",
    "    '''Run 20 iterations of Rabin Miller Primality test'''\n",
    "    maxDivisionsByTwo = 0\n",
    "    ec = mrc-1\n",
    "    while ec % 2 == 0:\n",
    "        ec >>= 1\n",
    "        maxDivisionsByTwo += 1\n",
    "    assert(2**maxDivisionsByTwo * ec == mrc-1)\n",
    " \n",
    "    def trialComposite(round_tester):\n",
    "        if pow(round_tester, ec, mrc) == 1:\n",
    "            return False\n",
    "        for i in range(maxDivisionsByTwo):\n",
    "            if pow(round_tester, 2**i * ec, mrc) == mrc-1:\n",
    "                return False\n",
    "        return True\n",
    " \n",
    "    # Set number of trials here\n",
    "    numberOfRabinTrials = 20\n",
    "    for i in range(numberOfRabinTrials):\n",
    "        round_tester = random.randrange(2, mrc)\n",
    "        if trialComposite(round_tester):\n",
    "            return False\n",
    "    return True\n",
    " \n",
    " \n",
    "if __name__ == '__main__':\n",
    "    while True:\n",
    "        n = 64\n",
    "        P = getLowLevelPrime(n)\n",
    "        if not isMillerRabinPassed(P):\n",
    "            continue\n",
    "        else:\n",
    "            print(n, \"bit prime is: \\n\", P)\n",
    "            break\n",
    "    while True:\n",
    "        n = 64\n",
    "        Q = getLowLevelPrime(n)\n",
    "        if not isMillerRabinPassed(Q):\n",
    "            continue\n",
    "        else:\n",
    "            print(n, \"bit prime is: \\n\", Q)\n",
    "            break"
   ]
  },
  {
   "cell_type": "code",
   "execution_count": 18,
   "id": "66b1ce52",
   "metadata": {},
   "outputs": [
    {
     "name": "stdout",
     "output_type": "stream",
     "text": [
      "185627197317718416938658727305330093871\n"
     ]
    }
   ],
   "source": [
    "#Generate Public Key Value\n",
    "public_key = P * Q\n",
    "print(public_key)"
   ]
  },
  {
   "cell_type": "code",
   "execution_count": 19,
   "id": "94e9e139",
   "metadata": {},
   "outputs": [],
   "source": [
    "#Assign e Value (small prime)\n",
    "e = 17"
   ]
  },
  {
   "cell_type": "code",
   "execution_count": 23,
   "id": "7f68a3b3",
   "metadata": {},
   "outputs": [
    {
     "name": "stdout",
     "output_type": "stream",
     "text": [
      "185627197317718416911092192180009734232\n",
      "92813598658859208455546096090004867116\n",
      "True\n"
     ]
    }
   ],
   "source": [
    "#Calculate theta\n",
    "theta = (Q - 1) * (P - 1)\n",
    "print(theta)\n",
    "\n",
    "#Carmicheal's Totient \n",
    "import math\n",
    "n = abs((Q - 1) * (P - 1)) // math.gcd((Q - 1), (P - 1))\n",
    "print(n)\n",
    "\n",
    "#Check if e is coprime to n (false is bad)\n",
    "print(math.gcd(e, n) == 1)"
   ]
  },
  {
   "cell_type": "code",
   "execution_count": 22,
   "id": "66cfec11",
   "metadata": {},
   "outputs": [],
   "source": [
    "#Assign k value\n",
    "k = 3"
   ]
  },
  {
   "cell_type": "code",
   "execution_count": 39,
   "id": "f269559e",
   "metadata": {},
   "outputs": [],
   "source": [
    "#Generate Private Key\n",
    "private_key = (k * (theta + 1)) % e"
   ]
  },
  {
   "cell_type": "code",
   "execution_count": 15,
   "id": "d5d81a20",
   "metadata": {},
   "outputs": [
    {
     "data": {
      "text/plain": [
       "3024832935551723157764260033027754109042456252970472221601963407233757586929037944369513318741112272343873"
      ]
     },
     "execution_count": 15,
     "metadata": {},
     "output_type": "execute_result"
    }
   ],
   "source": [
    "message = \"This message will be transmitted through RSA\"\n",
    "encrypted_message = message.encode('utf-8')\n",
    "encrypted_int = int.from_bytes(encrypted_message, byteorder='big')\n",
    "#encrypted int to the power of 17 mod theta\n",
    "#calc d => 1 = d * 17 mod n\n",
    "decode = encyrpted_message.decode('utf-8')\n",
    "encrypted_int"
   ]
  },
  {
   "cell_type": "code",
   "execution_count": 6,
   "id": "16da47f2",
   "metadata": {},
   "outputs": [
    {
     "data": {
      "text/plain": [
       "'This message will be transmitted through RSA'"
      ]
     },
     "execution_count": 6,
     "metadata": {},
     "output_type": "execute_result"
    }
   ],
   "source": []
  },
  {
   "cell_type": "code",
   "execution_count": 11,
   "id": "9ffbe4f1",
   "metadata": {},
   "outputs": [
    {
     "ename": "NameError",
     "evalue": "name 'ciphertext' is not defined",
     "output_type": "error",
     "traceback": [
      "\u001b[1;31m---------------------------------------------------------------------------\u001b[0m",
      "\u001b[1;31mNameError\u001b[0m                                 Traceback (most recent call last)",
      "\u001b[1;32m~\\AppData\\Local\\Temp/ipykernel_21488/2086682758.py\u001b[0m in \u001b[0;36m<module>\u001b[1;34m\u001b[0m\n\u001b[0;32m     24\u001b[0m \u001b[1;33m\u001b[0m\u001b[0m\n\u001b[0;32m     25\u001b[0m \u001b[1;31m# Run the brute force example\u001b[0m\u001b[1;33m\u001b[0m\u001b[1;33m\u001b[0m\u001b[0m\n\u001b[1;32m---> 26\u001b[1;33m \u001b[0mbrute_force_rsa\u001b[0m\u001b[1;33m(\u001b[0m\u001b[0mciphertext\u001b[0m\u001b[1;33m)\u001b[0m\u001b[1;33m\u001b[0m\u001b[1;33m\u001b[0m\u001b[0m\n\u001b[0m",
      "\u001b[1;31mNameError\u001b[0m: name 'ciphertext' is not defined"
     ]
    }
   ],
   "source": [
    "from sympy import isprime, mod_inverse\n",
    "from itertools import permutations\n",
    "\n",
    "# Brute force for small primes\n",
    "def brute_force_rsa(ciphertext):\n",
    "    small_primes = [2, 3, 5, 7, 11, 13, 17, 19]  # Small primes for demonstration\n",
    "    \n",
    "    for p in small_primes:\n",
    "        for q in small_primes:\n",
    "            if p != q and isprime(p) and isprime(q):\n",
    "                \n",
    "                try:\n",
    "                    plaintext = pow(ciphertext, d, n)\n",
    "                    print(f\"Found keys with p={p} and q={q}:\")\n",
    "                    print(f\"n = {n}\")\n",
    "                    print(f\"Public exponent e = {e}\")\n",
    "                    print(f\"Private exponent d = {d}\")\n",
    "                    print(f\"Plaintext = {plaintext}\")\n",
    "                    return\n",
    "                except ValueError:\n",
    "                    continue\n",
    "\n",
    "    print(\"No matching keys found\")\n",
    "\n",
    "# Run the brute force example\n",
    "brute_force_rsa(ciphertext)"
   ]
  },
  {
   "cell_type": "code",
   "execution_count": 14,
   "id": "8db054a8",
   "metadata": {},
   "outputs": [
    {
     "name": "stdout",
     "output_type": "stream",
     "text": [
      "15\n"
     ]
    }
   ],
   "source": [
    "print(C)"
   ]
  },
  {
   "cell_type": "code",
   "execution_count": null,
   "id": "49e355e1",
   "metadata": {},
   "outputs": [],
   "source": []
  }
 ],
 "metadata": {
  "kernelspec": {
   "display_name": "Python 3 (ipykernel)",
   "language": "python",
   "name": "python3"
  },
  "language_info": {
   "codemirror_mode": {
    "name": "ipython",
    "version": 3
   },
   "file_extension": ".py",
   "mimetype": "text/x-python",
   "name": "python",
   "nbconvert_exporter": "python",
   "pygments_lexer": "ipython3",
   "version": "3.9.7"
  }
 },
 "nbformat": 4,
 "nbformat_minor": 5
}
